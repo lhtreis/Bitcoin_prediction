{
 "cells": [
  {
   "cell_type": "code",
   "execution_count": 15,
   "id": "554ef8a0-ed28-4175-a4e7-9e886af61cd8",
   "metadata": {},
   "outputs": [],
   "source": [
    "#importando as bibliotecas que serao utilizadas\n",
    "\n",
    "import pandas as pd\n",
    "import matplotlib.pyplot as plt\n",
    "import matplotlib.pyplot as plt\n",
    "from statsmodels.graphics.tsaplots import plot_acf, plot_pacf\n",
    "from statsmodels.tsa.arima_model import ARMA\n"
   ]
  },
  {
   "cell_type": "code",
   "execution_count": 2,
   "id": "ef339c8f-629e-44fb-ac11-4794becf32bf",
   "metadata": {},
   "outputs": [
    {
     "data": {
      "text/html": [
       "<div>\n",
       "<style scoped>\n",
       "    .dataframe tbody tr th:only-of-type {\n",
       "        vertical-align: middle;\n",
       "    }\n",
       "\n",
       "    .dataframe tbody tr th {\n",
       "        vertical-align: top;\n",
       "    }\n",
       "\n",
       "    .dataframe thead th {\n",
       "        text-align: right;\n",
       "    }\n",
       "</style>\n",
       "<table border=\"1\" class=\"dataframe\">\n",
       "  <thead>\n",
       "    <tr style=\"text-align: right;\">\n",
       "      <th></th>\n",
       "      <th>time</th>\n",
       "      <th>AdrActCnt</th>\n",
       "      <th>AdrBal1in100KCnt</th>\n",
       "      <th>AdrBal1in100MCnt</th>\n",
       "      <th>AdrBal1in10BCnt</th>\n",
       "      <th>AdrBal1in10KCnt</th>\n",
       "      <th>AdrBal1in10MCnt</th>\n",
       "      <th>AdrBal1in1BCnt</th>\n",
       "      <th>AdrBal1in1KCnt</th>\n",
       "      <th>AdrBal1in1MCnt</th>\n",
       "      <th>...</th>\n",
       "      <th>TxTfrCnt</th>\n",
       "      <th>TxTfrValAdjNtv</th>\n",
       "      <th>TxTfrValAdjUSD</th>\n",
       "      <th>TxTfrValMeanNtv</th>\n",
       "      <th>TxTfrValMeanUSD</th>\n",
       "      <th>TxTfrValMedNtv</th>\n",
       "      <th>TxTfrValMedUSD</th>\n",
       "      <th>VelCur1yr</th>\n",
       "      <th>VtyDayRet180d</th>\n",
       "      <th>VtyDayRet30d</th>\n",
       "    </tr>\n",
       "  </thead>\n",
       "  <tbody>\n",
       "    <tr>\n",
       "      <th>0</th>\n",
       "      <td>2009-01-03</td>\n",
       "      <td>0.0</td>\n",
       "      <td>0.0</td>\n",
       "      <td>0.0</td>\n",
       "      <td>0.0</td>\n",
       "      <td>0.0</td>\n",
       "      <td>0.0</td>\n",
       "      <td>0.0</td>\n",
       "      <td>0.0</td>\n",
       "      <td>0.0</td>\n",
       "      <td>...</td>\n",
       "      <td>0.0</td>\n",
       "      <td>0.0</td>\n",
       "      <td>NaN</td>\n",
       "      <td>NaN</td>\n",
       "      <td>NaN</td>\n",
       "      <td>NaN</td>\n",
       "      <td>NaN</td>\n",
       "      <td>NaN</td>\n",
       "      <td>NaN</td>\n",
       "      <td>NaN</td>\n",
       "    </tr>\n",
       "    <tr>\n",
       "      <th>1</th>\n",
       "      <td>2009-01-04</td>\n",
       "      <td>0.0</td>\n",
       "      <td>0.0</td>\n",
       "      <td>0.0</td>\n",
       "      <td>0.0</td>\n",
       "      <td>0.0</td>\n",
       "      <td>0.0</td>\n",
       "      <td>0.0</td>\n",
       "      <td>0.0</td>\n",
       "      <td>0.0</td>\n",
       "      <td>...</td>\n",
       "      <td>0.0</td>\n",
       "      <td>0.0</td>\n",
       "      <td>NaN</td>\n",
       "      <td>NaN</td>\n",
       "      <td>NaN</td>\n",
       "      <td>NaN</td>\n",
       "      <td>NaN</td>\n",
       "      <td>NaN</td>\n",
       "      <td>NaN</td>\n",
       "      <td>NaN</td>\n",
       "    </tr>\n",
       "    <tr>\n",
       "      <th>2</th>\n",
       "      <td>2009-01-05</td>\n",
       "      <td>0.0</td>\n",
       "      <td>0.0</td>\n",
       "      <td>0.0</td>\n",
       "      <td>0.0</td>\n",
       "      <td>0.0</td>\n",
       "      <td>0.0</td>\n",
       "      <td>0.0</td>\n",
       "      <td>0.0</td>\n",
       "      <td>0.0</td>\n",
       "      <td>...</td>\n",
       "      <td>0.0</td>\n",
       "      <td>0.0</td>\n",
       "      <td>NaN</td>\n",
       "      <td>NaN</td>\n",
       "      <td>NaN</td>\n",
       "      <td>NaN</td>\n",
       "      <td>NaN</td>\n",
       "      <td>NaN</td>\n",
       "      <td>NaN</td>\n",
       "      <td>NaN</td>\n",
       "    </tr>\n",
       "    <tr>\n",
       "      <th>3</th>\n",
       "      <td>2009-01-06</td>\n",
       "      <td>0.0</td>\n",
       "      <td>0.0</td>\n",
       "      <td>0.0</td>\n",
       "      <td>0.0</td>\n",
       "      <td>0.0</td>\n",
       "      <td>0.0</td>\n",
       "      <td>0.0</td>\n",
       "      <td>0.0</td>\n",
       "      <td>0.0</td>\n",
       "      <td>...</td>\n",
       "      <td>0.0</td>\n",
       "      <td>0.0</td>\n",
       "      <td>NaN</td>\n",
       "      <td>NaN</td>\n",
       "      <td>NaN</td>\n",
       "      <td>NaN</td>\n",
       "      <td>NaN</td>\n",
       "      <td>NaN</td>\n",
       "      <td>NaN</td>\n",
       "      <td>NaN</td>\n",
       "    </tr>\n",
       "    <tr>\n",
       "      <th>4</th>\n",
       "      <td>2009-01-07</td>\n",
       "      <td>0.0</td>\n",
       "      <td>0.0</td>\n",
       "      <td>0.0</td>\n",
       "      <td>0.0</td>\n",
       "      <td>0.0</td>\n",
       "      <td>0.0</td>\n",
       "      <td>0.0</td>\n",
       "      <td>0.0</td>\n",
       "      <td>0.0</td>\n",
       "      <td>...</td>\n",
       "      <td>0.0</td>\n",
       "      <td>0.0</td>\n",
       "      <td>NaN</td>\n",
       "      <td>NaN</td>\n",
       "      <td>NaN</td>\n",
       "      <td>NaN</td>\n",
       "      <td>NaN</td>\n",
       "      <td>NaN</td>\n",
       "      <td>NaN</td>\n",
       "      <td>NaN</td>\n",
       "    </tr>\n",
       "  </tbody>\n",
       "</table>\n",
       "<p>5 rows × 144 columns</p>\n",
       "</div>"
      ],
      "text/plain": [
       "         time  AdrActCnt  AdrBal1in100KCnt  AdrBal1in100MCnt  AdrBal1in10BCnt  \\\n",
       "0  2009-01-03        0.0               0.0               0.0              0.0   \n",
       "1  2009-01-04        0.0               0.0               0.0              0.0   \n",
       "2  2009-01-05        0.0               0.0               0.0              0.0   \n",
       "3  2009-01-06        0.0               0.0               0.0              0.0   \n",
       "4  2009-01-07        0.0               0.0               0.0              0.0   \n",
       "\n",
       "   AdrBal1in10KCnt  AdrBal1in10MCnt  AdrBal1in1BCnt  AdrBal1in1KCnt  \\\n",
       "0              0.0              0.0             0.0             0.0   \n",
       "1              0.0              0.0             0.0             0.0   \n",
       "2              0.0              0.0             0.0             0.0   \n",
       "3              0.0              0.0             0.0             0.0   \n",
       "4              0.0              0.0             0.0             0.0   \n",
       "\n",
       "   AdrBal1in1MCnt  ...  TxTfrCnt  TxTfrValAdjNtv  TxTfrValAdjUSD  \\\n",
       "0             0.0  ...       0.0             0.0             NaN   \n",
       "1             0.0  ...       0.0             0.0             NaN   \n",
       "2             0.0  ...       0.0             0.0             NaN   \n",
       "3             0.0  ...       0.0             0.0             NaN   \n",
       "4             0.0  ...       0.0             0.0             NaN   \n",
       "\n",
       "   TxTfrValMeanNtv  TxTfrValMeanUSD  TxTfrValMedNtv  TxTfrValMedUSD  \\\n",
       "0              NaN              NaN             NaN             NaN   \n",
       "1              NaN              NaN             NaN             NaN   \n",
       "2              NaN              NaN             NaN             NaN   \n",
       "3              NaN              NaN             NaN             NaN   \n",
       "4              NaN              NaN             NaN             NaN   \n",
       "\n",
       "   VelCur1yr  VtyDayRet180d  VtyDayRet30d  \n",
       "0        NaN            NaN           NaN  \n",
       "1        NaN            NaN           NaN  \n",
       "2        NaN            NaN           NaN  \n",
       "3        NaN            NaN           NaN  \n",
       "4        NaN            NaN           NaN  \n",
       "\n",
       "[5 rows x 144 columns]"
      ]
     },
     "execution_count": 2,
     "metadata": {},
     "output_type": "execute_result"
    }
   ],
   "source": [
    "#importando o arquivo csv\n",
    "df = pd.read_csv(\"https://raw.githubusercontent.com/coinmetrics/data/master/csv/btc.csv\")\n",
    "\n",
    "df.head()"
   ]
  },
  {
   "cell_type": "code",
   "execution_count": 3,
   "id": "a723e354-5ebb-4c98-91a3-758694f60213",
   "metadata": {},
   "outputs": [
    {
     "data": {
      "text/plain": [
       "time         object\n",
       "PriceUSD    float64\n",
       "dtype: object"
      ]
     },
     "execution_count": 3,
     "metadata": {},
     "output_type": "execute_result"
    }
   ],
   "source": [
    "# manteremos somente as colunas 'time' e 'PriceUsd' para fazer a predicao\n",
    "df = df[['time', 'PriceUSD']]\n",
    "df.dtypes"
   ]
  },
  {
   "cell_type": "code",
   "execution_count": 4,
   "id": "a941c09b-77ef-4835-8cbb-594914fbab28",
   "metadata": {},
   "outputs": [],
   "source": [
    "# transformando a coluna 'time' em index para posteriormente plotarmos a serie 'PriceUSD' e usar o dataframe\n",
    "# diretamente no modelo de autoregressao AutoReg\n",
    "df.time = pd.to_datetime(df.time)\n",
    "df.set_index('time', inplace = True)\n",
    "df.index = pd.DatetimeIndex(df.index).to_period('D')"
   ]
  },
  {
   "cell_type": "code",
   "execution_count": 5,
   "id": "506afd31-aed8-46c8-bbc4-65bbd1af3a1a",
   "metadata": {},
   "outputs": [
    {
     "name": "stdout",
     "output_type": "stream",
     "text": [
      "<class 'pandas.core.frame.DataFrame'>\n",
      "PeriodIndex: 4912 entries, 2009-01-03 to 2022-06-15\n",
      "Freq: D\n",
      "Data columns (total 1 columns):\n",
      " #   Column    Non-Null Count  Dtype  \n",
      "---  ------    --------------  -----  \n",
      " 0   PriceUSD  4350 non-null   float64\n",
      "dtypes: float64(1)\n",
      "memory usage: 76.8 KB\n"
     ]
    }
   ],
   "source": [
    "# verificando a quantidade de valores nulos presentes no dataframe\n",
    "df.info()"
   ]
  },
  {
   "cell_type": "code",
   "execution_count": 6,
   "id": "99b3b914-fc3c-43bc-bf56-6c12a05136f0",
   "metadata": {},
   "outputs": [
    {
     "data": {
      "text/plain": [
       "<AxesSubplot:xlabel='time'>"
      ]
     },
     "execution_count": 6,
     "metadata": {},
     "output_type": "execute_result"
    },
    {
     "data": {
      "image/png": "[encoded data removed]",
      "text/plain": [
       "<Figure size 1080x432 with 1 Axes>"
      ]
     },
     "metadata": {
      "needs_background": "light"
     },
     "output_type": "display_data"
    }
   ],
   "source": [
    "#deletando linhas com valores nulos\n",
    "df.dropna(inplace = True)\n",
    "\n",
    "# plot simples dos dados\n",
    "df.plot(figsize = (15,6))"
   ]
  },
  {
   "cell_type": "code",
   "execution_count": 7,
   "id": "025251e4-759e-47e3-a3e3-88b4b21cd80f",
   "metadata": {},
   "outputs": [
    {
     "data": {
      "text/plain": [
       "<AxesSubplot:xlabel='time'>"
      ]
     },
     "execution_count": 7,
     "metadata": {},
     "output_type": "execute_result"
    },
    {
     "data": {
      "image/png": "[encoded data removed]",
      "text/plain": [
       "<Figure size 1080x576 with 1 Axes>"
      ]
     },
     "metadata": {
      "needs_background": "light"
     },
     "output_type": "display_data"
    }
   ],
   "source": [
    "# plot media movel de 30 dias\n",
    "df.PriceUSD.rolling(30).mean().plot(figsize = (15,8))"
   ]
  },
  {
   "cell_type": "code",
   "execution_count": 8,
   "id": "bf7b3e6f-6b8b-4df1-865c-e8e8c77f9525",
   "metadata": {},
   "outputs": [
    {
     "name": "stderr",
     "output_type": "stream",
     "text": [
      "C:\\Users\\luish\\anaconda3\\lib\\site-packages\\statsmodels\\tsa\\ar_model.py:248: FutureWarning: The parameter names will change after 0.12 is released. Set old_names to False to use the new names now. Set old_names to True to use the old names. \n",
      "  warnings.warn(\n"
     ]
    }
   ],
   "source": [
    "# Ajustando modelos AR(p), com p de 1 a 6, para fazer a predição do valor da série no próximo dia. \n",
    "# model.resid fornece o erro residual de cada previsão. err_qm é o erro quadrático médio do modelo. \n",
    "erro = []\n",
    "for p in range (1,7):\n",
    "    model = AutoReg(df, lags = p).fit()\n",
    "    err_qm = (model.resid**2).mean()\n",
    "    erro.append([round(err_qm,2)])\n"
   ]
  },
  {
   "cell_type": "code",
   "execution_count": 9,
   "id": "7e0a6309-9942-451d-8332-7da142baa0a3",
   "metadata": {},
   "outputs": [
    {
     "data": {
      "image/png": "[encoded data removed]",
      "text/plain": [
       "<Figure size 432x288 with 1 Axes>"
      ]
     },
     "metadata": {
      "needs_background": "light"
     },
     "output_type": "display_data"
    }
   ],
   "source": [
    "# plot do erro quadratico medio em funcao da ordem p do modelo AR(p). p = 5 obteve o melhor resultado\n",
    "x = range(1,7)\n",
    "plt.plot(x, erro);"
   ]
  },
  {
   "cell_type": "code",
   "execution_count": 10,
   "id": "48cd2b65-1454-4475-af02-2833aacca804",
   "metadata": {},
   "outputs": [
    {
     "data": {
      "text/html": [
       "<div>\n",
       "<style scoped>\n",
       "    .dataframe tbody tr th:only-of-type {\n",
       "        vertical-align: middle;\n",
       "    }\n",
       "\n",
       "    .dataframe tbody tr th {\n",
       "        vertical-align: top;\n",
       "    }\n",
       "\n",
       "    .dataframe thead th {\n",
       "        text-align: right;\n",
       "    }\n",
       "</style>\n",
       "<table border=\"1\" class=\"dataframe\">\n",
       "  <thead>\n",
       "    <tr style=\"text-align: right;\">\n",
       "      <th></th>\n",
       "      <th>PriceUSD</th>\n",
       "    </tr>\n",
       "    <tr>\n",
       "      <th>time</th>\n",
       "      <th></th>\n",
       "    </tr>\n",
       "  </thead>\n",
       "  <tbody>\n",
       "    <tr>\n",
       "      <th>2022-06-10</th>\n",
       "      <td>29070.400030</td>\n",
       "    </tr>\n",
       "    <tr>\n",
       "      <th>2022-06-11</th>\n",
       "      <td>28360.789923</td>\n",
       "    </tr>\n",
       "    <tr>\n",
       "      <th>2022-06-12</th>\n",
       "      <td>26830.283946</td>\n",
       "    </tr>\n",
       "    <tr>\n",
       "      <th>2022-06-13</th>\n",
       "      <td>22316.257040</td>\n",
       "    </tr>\n",
       "    <tr>\n",
       "      <th>2022-06-14</th>\n",
       "      <td>22072.866309</td>\n",
       "    </tr>\n",
       "  </tbody>\n",
       "</table>\n",
       "</div>"
      ],
      "text/plain": [
       "                PriceUSD\n",
       "time                    \n",
       "2022-06-10  29070.400030\n",
       "2022-06-11  28360.789923\n",
       "2022-06-12  26830.283946\n",
       "2022-06-13  22316.257040\n",
       "2022-06-14  22072.866309"
      ]
     },
     "execution_count": 10,
     "metadata": {},
     "output_type": "execute_result"
    }
   ],
   "source": [
    "df.tail()"
   ]
  },
  {
   "cell_type": "code",
   "execution_count": 11,
   "id": "f3b0546d-10a9-41e5-b0c8-d2c9cd420357",
   "metadata": {},
   "outputs": [
    {
     "name": "stderr",
     "output_type": "stream",
     "text": [
      "C:\\Users\\luish\\anaconda3\\lib\\site-packages\\statsmodels\\tsa\\ar_model.py:248: FutureWarning: The parameter names will change after 0.12 is released. Set old_names to False to use the new names now. Set old_names to True to use the old names. \n",
      "  warnings.warn(\n"
     ]
    },
    {
     "data": {
      "text/plain": [
       "2022-06-15    22070.081078\n",
       "Freq: D, dtype: float64"
      ]
     },
     "execution_count": 11,
     "metadata": {},
     "output_type": "execute_result"
    }
   ],
   "source": [
    "# Novamente treinando o modelo agora com i = 5 para fazermos a previsão do dia 15/06/2022.\n",
    "model = AutoReg(df, lags = 5, trend = 't', seasonal=True ).fit()\n",
    "model.predict(start = '2022-06-15', end = '2022-06-15')\n"
   ]
  },
  {
   "cell_type": "markdown",
   "id": "07ed064f-fae1-4403-86a6-3084df65ac02",
   "metadata": {},
   "source": [
    "Valor previsto com modelo Autoregressivo de ordem 5: BTC = 22070.08 USD\n",
    "\n",
    "Fiz também testes com valores de máximos de p chegando até 365 e a função de erro apresentou-se praticamente\n",
    "monotonica decrescente. Entretanto, imagino que tentar prever o preço do Bitcoin utilizando uma autoregressão\n",
    "que leva em conta muitos dias não seja uma boa ideia, mesmo com o erro quadrático médio ficando menor com o aumento\n",
    "de p. Imagino que os períodos onde o preço se manteve mais estável (que é a maior parte do tempo) tenham contribuído\n",
    "significativamente para diminuição do erro conforme aumenta-se p. Como estamos em um momento de variação brusca do \n",
    "Bitcoin, imagino que não faça sentido tentar utilizar autoregressões de ordem alta. \n",
    "\n",
    "Outra forma de analisar qual a melhor ordem para a autoregressão é a partir dos gráficos de correlação e autocorrelação.\n"
   ]
  },
  {
   "cell_type": "code",
   "execution_count": 12,
   "id": "eb71cd33-b995-432d-8afe-a151c7b64936",
   "metadata": {},
   "outputs": [
    {
     "data": {
      "image/png": "[encoded data removed]",
      "text/plain": [
       "<Figure size 432x288 with 1 Axes>"
      ]
     },
     "metadata": {
      "needs_background": "light"
     },
     "output_type": "display_data"
    }
   ],
   "source": [
    "# Gráfico de autocorrelação indicando que há correlação significativa entre o valor atual do bitcoin e os vários lags subsequentes\n",
    "plot_acf(df)\n",
    "plt.show()"
   ]
  },
  {
   "cell_type": "code",
   "execution_count": 21,
   "id": "153aa338-da05-4b00-9ffe-c9aca22e6d10",
   "metadata": {},
   "outputs": [
    {
     "data": {
      "image/png": "[encoded data removed]",
      "text/plain": [
       "<Figure size 432x288 with 1 Axes>"
      ]
     },
     "metadata": {
      "needs_background": "light"
     },
     "output_type": "display_data"
    }
   ],
   "source": [
    "# Gráfico de autocorrelação parcial indicando que a há correação direta muito significativa entre o valor do bitcoin e \n",
    "# o lag 1 e algumas outras correlações não tão significativas em lags superiores. Notar que após o lag 1, o lag 5 é o\n",
    "# próximo lag  sginificativamente correlacionado com o valor atual.\n",
    "\n",
    "plot_pacf(df)\n",
    "plt.show()"
   ]
  },
  {
   "cell_type": "code",
   "execution_count": 19,
   "id": "c5245a7f-185d-4a97-9e24-c30809681914",
   "metadata": {},
   "outputs": [],
   "source": [
    "# Ajustando um modelo ARMA onde serão testados p = [1,4] e q entre 1 e 3.\n",
    "p = [1,5]\n",
    "erro = []\n",
    "for i in p:\n",
    "    for j in range (1,4):\n",
    "        arma = ARMA(df, freq = 'D', order = (i, j)).fit();\n",
    "        err_qm = (arma.resid**2).mean()\n",
    "        erro.append([i, j, round(err_qm,2)])"
   ]
  },
  {
   "cell_type": "code",
   "execution_count": 20,
   "id": "44cf9625-d275-4cdb-9cde-d876f59c2953",
   "metadata": {},
   "outputs": [
    {
     "data": {
      "image/png": "[encoded data removed]",
      "text/plain": [
       "<Figure size 432x288 with 1 Axes>"
      ]
     },
     "metadata": {
      "needs_background": "light"
     },
     "output_type": "display_data"
    }
   ],
   "source": [
    "p1 = []\n",
    "for i in range(3):\n",
    "    p1.append(erro[i][2])\n",
    "p5 = []\n",
    "for i in range(3,6):\n",
    "    p5.append(erro[i][2])\n",
    "    \n",
    "# plot do erro quadratico medio dos modelos ajustados variando-se p e q. O menor erro quadratico medio obtido foi para (p = 5, q = 3)\n",
    "x = range(1,4)\n",
    "plt.plot(x, p1, label='p=1')\n",
    "plt.plot(x, p5, label='p=5')\n",
    "plt.legend()\n",
    "plt.show()"
   ]
  },
  {
   "cell_type": "code",
   "execution_count": 18,
   "id": "26dbcde7-6f1e-46fa-9d35-2d8847fa578e",
   "metadata": {},
   "outputs": [
    {
     "data": {
      "text/plain": [
       "2022-06-15    21994.474301\n",
       "Freq: D, dtype: float64"
      ]
     },
     "execution_count": 18,
     "metadata": {},
     "output_type": "execute_result"
    }
   ],
   "source": [
    "# Novamente treinando o modelo agora com (p = 5, q = 3) para fazermos a previsão do dia 15/06/2022.\n",
    "arma = ARMA(df, freq = 'D', order = (5, 3)).fit();\n",
    "arma.predict(start = '2022-06-15', end = '2022-06-15')"
   ]
  },
  {
   "cell_type": "markdown",
   "id": "4617961a-5e1d-40ac-b831-168fc892990f",
   "metadata": {},
   "source": [
    "\n",
    "\n",
    "\n",
    "RESULTADOS\n",
    "\n",
    "Valor previsto com modelo Autoregressivo de ordem 5: BTC = 22070.08 USD\n",
    "\n",
    "Valor previsto com modelo Autoregressivo de Medias Moveis de ordem (5,3): BTC = 21994.47 USD\n",
    "\n"
   ]
  },
  {
   "cell_type": "code",
   "execution_count": null,
   "id": "2b24d4ff-70db-4bc7-af48-e149dc89afa3",
   "metadata": {},
   "outputs": [],
   "source": []
  }
 ],
 "metadata": {
  "kernelspec": {
   "display_name": "Python 3 (ipykernel)",
   "language": "python",
   "name": "python3"
  },
  "language_info": {
   "codemirror_mode": {
    "name": "ipython",
    "version": 3
   },
   "file_extension": ".py",
   "mimetype": "text/x-python",
   "name": "python",
   "nbconvert_exporter": "python",
   "pygments_lexer": "ipython3",
   "version": "3.9.7"
  }
 },
 "nbformat": 4,
 "nbformat_minor": 5
}
